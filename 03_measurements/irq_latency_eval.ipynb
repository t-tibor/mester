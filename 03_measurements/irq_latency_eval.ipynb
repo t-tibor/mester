{
 "cells": [
  {
   "cell_type": "code",
   "execution_count": 2,
   "metadata": {},
   "outputs": [],
   "source": [
    "import numpy as np\n",
    "import matplotlib.pyplot as plt\n",
    "from matplotlib.pyplot import *\n",
    "from matplotlib import gridspec"
   ]
  },
  {
   "cell_type": "code",
   "execution_count": 3,
   "metadata": {},
   "outputs": [],
   "source": [
    "def get_events(tstamp,state, type):\n",
    "    if type == \"UP\":\n",
    "        mask = np.concatenate((np.array([False]),np.logical_and(state[1:]==1,state[1:]!=state[:-1] )))\n",
    "        events = tstamp[mask]\n",
    "        return events\n",
    "    elif type == 'DOWN':\n",
    "        mask = np.concatenate((np.array([False]),np.logical_and(state[1:]==0,state[1:]!=state[:-1] )))\n",
    "        events = tstamp[mask]\n",
    "        return events        \n",
    "    elif type == \"BOTH\":\n",
    "        mask = np.concatenate((np.array([False]),state[1:]!=state[:-1]))\n",
    "        events = tstamp[mask]\n",
    "        return events\n",
    "    else:\n",
    "        return None"
   ]
  },
  {
   "cell_type": "code",
   "execution_count": 4,
   "metadata": {},
   "outputs": [],
   "source": [
    "fname = './irq_lat/stress/untitled.csv'\n",
    "    \n",
    "data = np.genfromtxt(fname,dtype=float, delimiter=',',skip_header=1)\n",
    "ts = data[:,0];\n",
    "C1 = data[:,1];\n",
    "C2 = data[:,2];\n",
    "\n",
    "ref = get_events(ts,C1,\"UP\");\n",
    "irq = get_events(ts,C2,\"UP\");\n",
    "irq = irq[irq > ref[0]];\n",
    "cnt = min(len(ref), len(irq));\n",
    "ref = ref[0:cnt-1];\n",
    "irq = irq[0:cnt-1];"
   ]
  },
  {
   "cell_type": "code",
   "execution_count": 5,
   "metadata": {},
   "outputs": [],
   "source": [
    "diff_stress = (irq - ref)*1e6;"
   ]
  },
  {
   "cell_type": "code",
   "execution_count": 24,
   "metadata": {},
   "outputs": [
    {
     "name": "stdout",
     "output_type": "stream",
     "text": [
      "Min: 3.92\n",
      "Max: 792.17\n",
      "Mean: 9.44\n"
     ]
    },
    {
     "data": {
      "image/png": "[encoded data removed]",
      "text/plain": [
       "<Figure size 432x288 with 1 Axes>"
      ]
     },
     "metadata": {
      "needs_background": "light"
     },
     "output_type": "display_data"
    }
   ],
   "source": [
    "hist(diff_stress, bins=np.arange(0,150,1));\n",
    "yscale('log')\n",
    "diff_stress_min = np.min(diff_stress);\n",
    "diff_stress_max = np.max(diff_stress);\n",
    "diff_stress_mean = np.mean(diff_stress);\n",
    "print \"Min: %.2f\" % diff_stress_min\n",
    "print \"Max: %.2f\" % diff_stress_max\n",
    "print \"Mean: %.2f\" % diff_stress_mean"
   ]
  },
  {
   "cell_type": "code",
   "execution_count": 7,
   "metadata": {},
   "outputs": [],
   "source": [
    "fname = './irq_lat/no_stress/untitled.csv'\n",
    "    \n",
    "data = np.genfromtxt(fname,dtype=float, delimiter=',',skip_header=1)\n",
    "ts = data[:,0];\n",
    "C1 = data[:,1];\n",
    "C2 = data[:,2];\n",
    "\n",
    "ref = get_events(ts,C1,\"UP\");\n",
    "irq = get_events(ts,C2,\"UP\");\n",
    "irq = irq[irq > ref[0]];\n",
    "cnt = min(len(ref), len(irq));\n",
    "ref = ref[0:cnt-1];\n",
    "irq = irq[0:cnt-1];"
   ]
  },
  {
   "cell_type": "code",
   "execution_count": 8,
   "metadata": {},
   "outputs": [],
   "source": [
    "diff_no_stress = (irq - ref)*1e6;"
   ]
  },
  {
   "cell_type": "code",
   "execution_count": 31,
   "metadata": {},
   "outputs": [
    {
     "name": "stdout",
     "output_type": "stream",
     "text": [
      "Min: 1.75\n",
      "Max: 21.33\n",
      "Mean: 3.10\n"
     ]
    },
    {
     "data": {
      "image/png": "[encoded data removed]",
      "text/plain": [
       "<Figure size 576x216 with 1 Axes>"
      ]
     },
     "metadata": {
      "needs_background": "light"
     },
     "output_type": "display_data"
    }
   ],
   "source": [
    "figure(figsize=(8,3))\n",
    "\n",
    "hist(diff_no_stress, bins=np.arange(0,30,1), alpha = 0.6,label='xenomai',edgecolor='k',Color='yellow');\n",
    "yscale('log')\n",
    "diff_no_stress_min = np.min(diff_no_stress);\n",
    "diff_no_stress_max = np.max(diff_no_stress);\n",
    "diff_no_stress_mean = np.mean(diff_no_stress);\n",
    "print \"Min: %.2f\" % diff_no_stress_min\n",
    "print \"Max: %.2f\" % diff_no_stress_max\n",
    "print \"Mean: %.2f\" % diff_no_stress_mean\n",
    "\n",
    "grid()\n",
    "xlabel('Delay [usec]');\n",
    "ylabel('Count');\n",
    "title('Interrupt latency')\n",
    "text(20,1e3,'Min:    %.2f usec\\nMax:   %.2f usec\\nMean: %.2f usec' % (diff_no_stress_min, diff_no_stress_max,diff_no_stress_mean), ha='left', bbox=dict(boxstyle=\"square\", ec=(1., 0.5, 0.5),  fc=\"white\"))\n",
    "savefig('./irq_lat/irq_no_stress',bbox_inches = \"tight\");"
   ]
  },
  {
   "cell_type": "code",
   "execution_count": null,
   "metadata": {},
   "outputs": [],
   "source": []
  }
 ],
 "metadata": {
  "kernelspec": {
   "display_name": "Python 2",
   "language": "python",
   "name": "python2"
  },
  "language_info": {
   "codemirror_mode": {
    "name": "ipython",
    "version": 2
   },
   "file_extension": ".py",
   "mimetype": "text/x-python",
   "name": "python",
   "nbconvert_exporter": "python",
   "pygments_lexer": "ipython2",
   "version": "2.7.12"
  }
 },
 "nbformat": 4,
 "nbformat_minor": 2
}
